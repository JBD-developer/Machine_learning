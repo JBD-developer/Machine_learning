{
 "cells": [
  {
   "cell_type": "markdown",
   "metadata": {},
   "source": [
    "#### Numpy ndarray "
   ]
  },
  {
   "cell_type": "code",
   "execution_count": 1,
   "metadata": {},
   "outputs": [],
   "source": [
    "import xgboost\n",
    "import lightgbm \n",
    "import sklearn \n",
    "import numpy as np  \n",
    "import matplotlib.pyplot as plt "
   ]
  },
  {
   "cell_type": "code",
   "execution_count": 17,
   "metadata": {},
   "outputs": [
    {
     "name": "stdout",
     "output_type": "stream",
     "text": [
      "list_py type : <class 'list'>, \n",
      "[1, 2, 3]\n",
      "arr_np1 type : <class 'numpy.ndarray'>, \n",
      "[1 2 3]\n",
      "arr_np1 shape : (3,)\n",
      "arr_np2 type : <class 'numpy.ndarray'> \n",
      "[[1 2 3]\n",
      " [4 5 6]]\n",
      "arr_np2 shape : (2, 3)\n",
      "arr_np3 type <class 'numpy.ndarray'> \n",
      "[[1 2 3]]\n",
      "arr_np3 shape (1, 3)\n"
     ]
    }
   ],
   "source": [
    "list_py = [1, 2, 3]\n",
    "print(f\"list_py type : {type(list_py)}, \\n{list_py}\")\n",
    "arr_np1 = np.array(list_py)\n",
    "print(f\"arr_np1 type : {type(arr_np1)}, \\n{arr_np1}\")\n",
    "print(f\"arr_np1 shape : {arr_np1.shape}\")\n",
    "\n",
    "\n",
    "arr_np2 = np.array([[1, 2, 3], \n",
    "                    [4, 5, 6]])\n",
    "\n",
    "print(f\"arr_np2 type : {type(arr_np2)} \\n{arr_np2}\")\n",
    "print(f\"arr_np2 shape : {arr_np2.shape}\")\n",
    "\n",
    "\n",
    "arr_np3 = np.array([[1, 2, 3]])\n",
    "print(f\"arr_np3 type {type(arr_np3)} \\n{arr_np3}\")\n",
    "print(f\"arr_np3 shape {arr_np3.shape}\")"
   ]
  },
  {
   "cell_type": "code",
   "execution_count": 16,
   "metadata": {},
   "outputs": [
    {
     "name": "stdout",
     "output_type": "stream",
     "text": [
      "arr_np1.ndim : 1\n",
      "arr_np2.ndim : 2\n",
      "arr_np3.ndim : 2\n"
     ]
    }
   ],
   "source": [
    "print(f\"arr_np1.ndim : {arr_np1.ndim}\")\n",
    "print(f\"arr_np2.ndim : {arr_np2.ndim}\")\n",
    "print(f\"arr_np3.ndim : {arr_np3.ndim}\")"
   ]
  },
  {
   "cell_type": "markdown",
   "metadata": {},
   "source": [
    "#### Numpy ndarray datatype "
   ]
  },
  {
   "cell_type": "code",
   "execution_count": 21,
   "metadata": {},
   "outputs": [
    {
     "name": "stdout",
     "output_type": "stream",
     "text": [
      "list_py1 type : <class 'list'>\n",
      " [1, 2, 3]\n",
      "arr_np type : <class 'numpy.ndarray'> datatype int32\n",
      "[1 2 3]\n"
     ]
    }
   ],
   "source": [
    "list_py1 = [1, 2, 3]\n",
    "print(f\"list_py1 type : {type(list_py1)}\\n {list_py1}\")\n",
    "\n",
    "arr_np = np.array(list_py1)\n",
    "print(f\"arr_np type : {type(arr_np)} datatype {arr_np.dtype}\")\n",
    "print(f\"{arr_np}\")"
   ]
  },
  {
   "cell_type": "code",
   "execution_count": 23,
   "metadata": {},
   "outputs": [
    {
     "name": "stdout",
     "output_type": "stream",
     "text": [
      "list_py2 type : <class 'list'>\n",
      " [1, 2, 3, 'test']\n",
      "arr_np type : <class 'numpy.ndarray'> datatype <U11\n",
      "['1' '2' '3' 'test']\n"
     ]
    }
   ],
   "source": [
    "list_py2 = [1, 2, 3, \"test\"]\n",
    "print(f\"list_py2 type : {type(list_py2)}\\n {list_py2}\")\n",
    "\n",
    "arr_np = np.array(list_py2)\n",
    "print(f\"arr_np type : {type(arr_np)} datatype {arr_np.dtype}\")\n",
    "print(f\"{arr_np}\")"
   ]
  },
  {
   "cell_type": "code",
   "execution_count": 29,
   "metadata": {},
   "outputs": [
    {
     "name": "stdout",
     "output_type": "stream",
     "text": [
      "arr_np type : <class 'numpy.ndarray'> datatype float64\n",
      "[1. 2. 3. 4.]\n"
     ]
    }
   ],
   "source": [
    "list_py3 = [1, 2, 3, 4.0]\n",
    "arr_np = np.array(list_py3)\n",
    "print(f\"arr_np type : {type(arr_np)} datatype {arr_np.dtype}\")\n",
    "print(f\"{arr_np}\")"
   ]
  },
  {
   "cell_type": "code",
   "execution_count": 33,
   "metadata": {},
   "outputs": [
    {
     "name": "stdout",
     "output_type": "stream",
     "text": [
      "vec_int1 dtype: int32 \n",
      "[1 2 3]\n",
      "vec_float1 dtype: float64 \n",
      "[1. 2. 3.]\n",
      "vec_int2 dtype: int64 \n",
      "[1 1 0]\n"
     ]
    }
   ],
   "source": [
    "vec_int1 = np.array([1, 2, 3])\n",
    "print(f\"vec_int1 dtype: {vec_int1.dtype} \\n{vec_int1}\")\n",
    "vec_float1 = vec_int1.astype(\"float64\")\n",
    "print(f\"vec_float1 dtype: {vec_float1.dtype} \\n{vec_float1}\")\n",
    "\n",
    "vec_float2 = np.array([1.2, 1.1, 0.0])\n",
    "vec_int2 = vec_float2.astype(\"int64\")\n",
    "print(f\"vec_int2 dtype: {vec_int2.dtype} \\n{vec_int2}\")\n"
   ]
  },
  {
   "cell_type": "markdown",
   "metadata": {},
   "source": [
    "#### Create ndarray \n",
    "- arange \n",
    "- zeros \n",
    "- ones "
   ]
  },
  {
   "cell_type": "code",
   "execution_count": 39,
   "metadata": {},
   "outputs": [
    {
     "name": "stdout",
     "output_type": "stream",
     "text": [
      "sequence_array \n",
      "shape : (10,) \n",
      "dimension : 1 \n",
      "dtype : int32\n",
      "[0 1 2 3 4 5 6 7 8 9]\n"
     ]
    }
   ],
   "source": [
    "sequence_array = np.arange(10)\n",
    "print(f\"sequence_array \\nshape : {sequence_array.shape} \\ndimension : {sequence_array.ndim} \\ndtype : {sequence_array.dtype}\\n{sequence_array}\")"
   ]
  },
  {
   "cell_type": "code",
   "execution_count": 47,
   "metadata": {},
   "outputs": [
    {
     "name": "stdout",
     "output_type": "stream",
     "text": [
      "zeros_array \n",
      "shape : (3, 2) \n",
      "dimension : 2 \n",
      "dtype : int32 \n",
      "[[0 0]\n",
      " [0 0]\n",
      " [0 0]]\n",
      "\n",
      "\n",
      "ones_array \n",
      "(3, 2) \n",
      "dimension : 2 \n",
      "dtype: float64 \n",
      "[[1. 1.]\n",
      " [1. 1.]\n",
      " [1. 1.]]\n"
     ]
    }
   ],
   "source": [
    "zeros_array = np.zeros((3, 2), dtype=\"int32\")\n",
    "print(f\"zeros_array \\nshape : {zeros_array.shape} \\ndimension : {zeros_array.ndim} \\ndtype : {zeros_array.dtype} \\n{zeros_array}\")\n",
    "\n",
    "print(\"\\n\")\n",
    "ones_array = np.ones((3, 2))\n",
    "print(f\"ones_array \\n{ones_array.shape} \\ndimension : {ones_array.ndim} \\ndtype: {ones_array.dtype} \\n{ones_array}\")\n"
   ]
  },
  {
   "cell_type": "markdown",
   "metadata": {},
   "source": [
    "#### ndarray reshape"
   ]
  },
  {
   "cell_type": "code",
   "execution_count": 50,
   "metadata": {},
   "outputs": [
    {
     "name": "stdout",
     "output_type": "stream",
     "text": [
      "array_a : [0 1 2 3 4 5 6 7 8 9]\n",
      "array_b : \n",
      "[[0 1 2 3 4]\n",
      " [5 6 7 8 9]]\n",
      "array_c : \n",
      "[[0 1]\n",
      " [2 3]\n",
      " [4 5]\n",
      " [6 7]\n",
      " [8 9]]\n"
     ]
    }
   ],
   "source": [
    "array_a = np.arange(10)\n",
    "print(f\"array_a : {array_a}\")\n",
    "\n",
    "array_b = array_a.reshape(2, 5)\n",
    "print(f\"array_b : \\n{array_b}\")\n",
    "\n",
    "array_c = array_a.reshape(5, 2)\n",
    "print(f\"array_c : \\n{array_c}\")\n"
   ]
  },
  {
   "cell_type": "code",
   "execution_count": 51,
   "metadata": {},
   "outputs": [
    {
     "name": "stdout",
     "output_type": "stream",
     "text": [
      "array_a : [0 1 2 3 4 5 6 7 8 9]\n",
      "array_a.reshape(-1, 5) : \n",
      "[[0 1 2 3 4]\n",
      " [5 6 7 8 9]]\n",
      "array_a.reshape(5, -1) : \n",
      "[[0 1 2 3 4]\n",
      " [5 6 7 8 9]]\n"
     ]
    }
   ],
   "source": [
    "array_a = np.arange(10)\n",
    "print(f\"array_a : {array_a}\")\n",
    "\n",
    "array_b = array_a.reshape(-1, 5)\n",
    "print(f\"array_a.reshape(-1, 5) : \\n{array_b}\")\n",
    "\n",
    "\n",
    "array_c = array_a.reshape(5, -1)\n",
    "print(f\"array_a.reshape(5, -1) : \\n{array_b}\")"
   ]
  },
  {
   "cell_type": "code",
   "execution_count": 67,
   "metadata": {},
   "outputs": [
    {
     "name": "stdout",
     "output_type": "stream",
     "text": [
      "=============Vector=============\n",
      "vec_array \n",
      "ndim : 1 \n",
      "shape : (8,) \n",
      "[0, 1, 2, 3, 4, 5, 6, 7]\n",
      "============= Vector -> Tensor =============\n",
      "ten_array \n",
      "ndim : 3 \n",
      "shape : (2, 2, 2) \n",
      "[[[0, 1], [2, 3]], [[4, 5], [6, 7]]]\n",
      "============= Tensor -> Matrix =============\n",
      "mat_array \n",
      "ndim : 2 \n",
      "shape : (8, 1) \n",
      "[[0], [1], [2], [3], [4], [5], [6], [7]]\n",
      "============= Tensor -> Vector =============\n",
      "vec_array \n",
      "ndim : 1 \n",
      "shape : (8,) \n",
      "[0, 1, 2, 3, 4, 5, 6, 7]\n"
     ]
    }
   ],
   "source": [
    "print(\"=============Vector=============\")\n",
    "vec_array = np.arange(8)\n",
    "print(f\"vec_array \\nndim : {vec_array.ndim} \\nshape : {vec_array.shape} \\n{vec_array.tolist()}\")\n",
    "print(\"============= Vector -> Tensor =============\")\n",
    "\n",
    "ten_array = vec_array.reshape(2, 2, 2)\n",
    "print(f\"ten_array \\nndim : {ten_array.ndim} \\nshape : {ten_array.shape} \\n{ten_array.tolist()}\")\n",
    "\n",
    "print(\"============= Tensor -> Matrix =============\")\n",
    "\n",
    "mat_array = ten_array.reshape(-1, 1)\n",
    "print(f\"mat_array \\nndim : {mat_array.ndim} \\nshape : {mat_array.shape} \\n{mat_array.tolist()}\")\n",
    "\n",
    "print(\"============= Tensor -> Vector =============\")\n",
    "vec_array = ten_array.reshape(-1, )\n",
    "print(f\"vec_array \\nndim : {vec_array.ndim} \\nshape : {vec_array.shape} \\n{vec_array.tolist()}\")\n"
   ]
  },
  {
   "cell_type": "markdown",
   "metadata": {},
   "source": [
    "#### Indexing Slicing \n",
    "- Indexing \n",
    "- Slicing \n",
    "- Fancy indexing \n",
    "- Boolean indexing "
   ]
  },
  {
   "cell_type": "code",
   "execution_count": 80,
   "metadata": {},
   "outputs": [
    {
     "name": "stdout",
     "output_type": "stream",
     "text": [
      "vec_array  \n",
      "ndim : 1 \n",
      "shape : (9,) \n",
      "[1, 2, 3, 4, 5, 6, 7, 8, 9]\n",
      "vec_array[2] : 3 \n",
      "vec_array[-1] : 9 , <class 'numpy.int32'>\n",
      "vec_array[-2] : 8 , <class 'numpy.int32'>\n"
     ]
    }
   ],
   "source": [
    "vec_array = np.arange(start=1, stop=10)\n",
    "print(f\"vec_array  \\nndim : {vec_array.ndim} \\nshape : {vec_array.shape} \\n{vec_array.tolist()}\")\n",
    "\n",
    "print(\"\\n=============Vector Indexing =============\")\n",
    "print(f\"vec_array[2] : {vec_array[2]} \")\n",
    "print(f\"vec_array[-1] : {vec_array[-1]} , {type(vec_array[-1])}\")\n",
    "print(f\"vec_array[-2] : {vec_array[-2]} , {type(vec_array[-2])}\")"
   ]
  },
  {
   "cell_type": "code",
   "execution_count": 93,
   "metadata": {},
   "outputs": [
    {
     "name": "stdout",
     "output_type": "stream",
     "text": [
      "vec_array \n",
      "ndim : 1 \n",
      "shape : (9,) \n",
      "[1, 2, 3, 4, 5, 6, 7, 8, 9]\n",
      "============= Vector -> Matrix =============\n",
      "mat_array \n",
      "ndim : 2 \n",
      "shape : (3, 3) \n",
      "[[1, 2, 3], [4, 5, 6], [7, 8, 9]]\n",
      "mat_array[0][0] : 1 mat_array[0][1] : 2 mat_array[0][2] : 3 \n",
      "mat_array[1][0] : 4 mat_array[1][1] : 5 mat_array[1][2] : 6 \n",
      "mat_array[2][0] : 7 mat_array[2][1] : 8 mat_array[2][2] : 9 \n",
      "\n",
      "=============Matrix Indexing =============\n",
      "mat_array index[0, 0] : 1\n",
      "mat_array index[0, 1] : 4\n",
      "mat_array index[1, 0] : 2\n",
      "mat_array index[2, 2] : 9\n"
     ]
    }
   ],
   "source": [
    "vec_array=np.arange(start=1, stop=10, step=1)\n",
    "print(f\"vec_array \\nndim : {vec_array.ndim} \\nshape : {vec_array.shape} \\n{vec_array.tolist()}\")\n",
    "\n",
    "print(\"============= Vector -> Matrix =============\")\n",
    "mat_array = vec_array.reshape(3, 3)\n",
    "print(f\"mat_array \\nndim : {mat_array.ndim} \\nshape : {mat_array.shape} \\n{mat_array.tolist()}\")\n",
    "for row in range(len(mat_array)):\n",
    "    for col in range(len(mat_array[row])):\n",
    "        print(f\"mat_array[{row}][{col}] : {mat_array[row][col]}\", end= \" \")\n",
    "    print()\n",
    "\n",
    "print(\"\\n=============Matrix Indexing =============\")\n",
    "print(f\"mat_array index[0, 0] : {mat_array[0, 0]}\")\n",
    "print(f\"mat_array index[0, 1] : {mat_array[1, 0]}\")\n",
    "print(f\"mat_array index[1, 0] : {mat_array[0, 1]}\")\n",
    "print(f\"mat_array index[2, 2] : {mat_array[2, 2]}\")"
   ]
  },
  {
   "cell_type": "code",
   "execution_count": 104,
   "metadata": {},
   "outputs": [
    {
     "name": "stdout",
     "output_type": "stream",
     "text": [
      "vec_arr \n",
      "ndim : 1 \n",
      "shape : (9,) \n",
      "[1 2 3 4 5 6 7 8 9]\n",
      "vec_arr [0:3] = [1 2 3] type : <class 'numpy.ndarray'>\n",
      "vec_arr [3:] = [4 5 6 7 8 9] type : <class 'numpy.ndarray'>\n",
      "vec_arr [:] = [1 2 3 4 5 6 7 8 9] type : <class 'numpy.ndarray'>\n"
     ]
    }
   ],
   "source": [
    "vec_arr = np.arange(start=1, stop=10)\n",
    "print(f\"vec_arr \\nndim : {vec_arr.ndim} \\nshape : {vec_arr.shape} \\n{vec_arr}\")\n",
    "print(f\"vec_arr [0:3] = {vec_arr[0:3]} type : {type(vec_arr[0:3])}\")\n",
    "print(f\"vec_arr [3:] = {vec_arr[3:]} type : {type(vec_arr[3:])}\")\n",
    "print(f\"vec_arr [:] = {vec_arr[:]} type : {type(vec_arr[:])}\")"
   ]
  },
  {
   "cell_type": "code",
   "execution_count": 122,
   "metadata": {},
   "outputs": [
    {
     "name": "stdout",
     "output_type": "stream",
     "text": [
      "mat_arr \n",
      "ndim : 2 \n",
      "shape : (3, 3) \n",
      "[[1, 2, 3], [4, 5, 6], [7, 8, 9]]\n",
      "\n",
      "=============Matrix Slicing =============\n",
      "mat_arr [0:2, 0:2] = [[1, 2], [4, 5]]\n",
      "mat_arr [0:3, 1:3] = [[2, 3], [5, 6], [8, 9]]\n",
      "mat_arr [1:3, :] = [[4, 5, 6], [7, 8, 9]]\n",
      "mat_arr [:2, 1:] = [[2, 3], [5, 6]]\n",
      "mat_arr [:2, 0] = [1, 4]\n"
     ]
    }
   ],
   "source": [
    "mat_arr = vec_arr.reshape(3, 3)\n",
    "print(f\"mat_arr \\nndim : {mat_arr.ndim} \\nshape : {mat_arr.shape} \\n{mat_arr.tolist()}\")\n",
    "\n",
    "print(\"\\n=============Matrix Slicing =============\")\n",
    "print(f\"mat_arr [0:2, 0:2] = {mat_arr[0:2, 0:2].tolist()}\")\n",
    "print(f\"mat_arr [0:3, 1:3] = {mat_arr[0:3, 1:3].tolist()}\")\n",
    "print(f\"mat_arr [1:3, :] = {mat_arr[1:3, :].tolist()}\")\n",
    "print(f\"mat_arr [:2, 1:] = {mat_arr[:2, 1:].tolist()}\")\n",
    "print(f\"mat_arr [:2, 0] = {mat_arr[:2, 0].tolist()}\")\n"
   ]
  },
  {
   "cell_type": "code",
   "execution_count": 131,
   "metadata": {},
   "outputs": [
    {
     "name": "stdout",
     "output_type": "stream",
     "text": [
      "\n",
      "=============Fancy Indexing=============\n",
      "vec_arr \n",
      "ndim : 1 \n",
      "shape : (9,) \n",
      "[1, 2, 3, 4, 5, 6, 7, 8, 9]\n",
      "============= Vector Reshape -> Matrix  =============\n",
      "mat_arr \n",
      "ndim : 2 \n",
      "shape : (3, 3) \n",
      "[[1, 2, 3], [4, 5, 6], [7, 8, 9]]\n",
      "mat_arr[[0, 1], 2] \n",
      "[3 6]\n",
      "mat_arr[[0, 1], 0:2] \n",
      "[[1 2]\n",
      " [4 5]]\n",
      "mat_arr[[0, 1]] \n",
      "[[1 2 3]\n",
      " [4 5 6]]\n"
     ]
    }
   ],
   "source": [
    "print(\"\\n=============Fancy Indexing=============\")\n",
    "vec_arr = np.arange(start=1, stop=10)\n",
    "mat_arr = vec_arr.reshape(3, 3)\n",
    "print(f\"vec_arr \\nndim : {vec_arr.ndim} \\nshape : {vec_arr.shape} \\n{vec_arr.tolist()}\")\n",
    "print(\"============= Vector Reshape -> Matrix  =============\")\n",
    "print(f\"mat_arr \\nndim : {mat_arr.ndim} \\nshape : {mat_arr.shape} \\n{mat_arr.tolist()}\")\n",
    "\n",
    "\n",
    "mat_arr2 = mat_arr[[0, 1], 2]\n",
    "print(f\"mat_arr[[0, 1], 2] \\n{mat_arr2}\" )\n",
    "\n",
    "mat_arr3 = mat_arr[[0, 1], 0:2]\n",
    "print(f\"mat_arr[[0, 1], 0:2] \\n{mat_arr3}\" )\n",
    "\n",
    "\n",
    "mat_arr4 = mat_arr[[0, 1]]\n",
    "print(f\"mat_arr[[0, 1]] \\n{mat_arr4}\" )\n"
   ]
  },
  {
   "cell_type": "code",
   "execution_count": 5,
   "metadata": {},
   "outputs": [
    {
     "name": "stdout",
     "output_type": "stream",
     "text": [
      "\n",
      "=============Boolean Indexing=============\n",
      "vec_arr \n",
      "ndim : 1 \n",
      "shape : (10,) \n",
      "[0, 1, 2, 3, 4, 5, 6, 7, 8, 9]\n",
      "vec_arr > 5 [False False False False False False  True  True  True  True]\n",
      "vec_arr2 \n",
      "ndim : 1 \n",
      "shape : (4,) \n",
      "[6, 7, 8, 9]\n"
     ]
    }
   ],
   "source": [
    "print(\"\\n=============Boolean Indexing=============\")\n",
    "vec_arr = np.arange(start = 0, stop=10)\n",
    "print(f\"vec_arr \\nndim : {vec_arr.ndim} \\nshape : {vec_arr.shape} \\n{vec_arr.tolist()}\")\n",
    "\n",
    "print(f\"vec_arr > 5 {vec_arr > 5}\")\n",
    "vec_arr2 = vec_arr[vec_arr > 5]\n",
    "print(f\"vec_arr2 \\nndim : {vec_arr2.ndim} \\nshape : {vec_arr2.shape} \\n{vec_arr2.tolist()}\")\n"
   ]
  },
  {
   "cell_type": "markdown",
   "metadata": {},
   "source": [
    "#### ndarray sort, argsort"
   ]
  },
  {
   "cell_type": "code",
   "execution_count": 15,
   "metadata": {},
   "outputs": [
    {
     "name": "stdout",
     "output_type": "stream",
     "text": [
      "original vector : [3 1 9 5]\n",
      "\n",
      "=============np.sort(ndarray)=============\n",
      "original vector : [1 3 5 9]\n",
      "\n",
      "=============ndarray.sort()=============\n",
      "original vector : [1 3 5 9]\n"
     ]
    }
   ],
   "source": [
    "vec_origin = np.array([3, 1, 9, 5])\n",
    "print(f\"original vector : {vec_origin}\")\n",
    "\n",
    "print(\"\\n=============np.sort(ndarray)=============\")\n",
    "sort_origin = np.sort(vec_origin)\n",
    "print(f\"original vector : {sort_origin}\")\n",
    "\n",
    "print(\"\\n=============ndarray.sort()=============\")\n",
    "vec_origin.sort()\n",
    "print(f\"original vector : {vec_origin}\")"
   ]
  },
  {
   "cell_type": "code",
   "execution_count": 17,
   "metadata": {},
   "outputs": [
    {
     "name": "stdout",
     "output_type": "stream",
     "text": [
      "\n",
      "=============descending =============\n",
      "sort_origin_desc [9 5 3 1]\n"
     ]
    }
   ],
   "source": [
    "print(\"\\n=============descending =============\")\n",
    "sort_origin_desc = np.sort(vec_origin)[::-1]\n",
    "print(f\"sort_origin_desc {sort_origin_desc}\")"
   ]
  },
  {
   "cell_type": "code",
   "execution_count": 23,
   "metadata": {},
   "outputs": [
    {
     "name": "stdout",
     "output_type": "stream",
     "text": [
      "sort_axis0 = \n",
      "[[ 7  1]\n",
      " [ 8 12]]\n",
      "sort_axis1 = \n",
      "[[ 8 12]\n",
      " [ 1  7]]\n"
     ]
    }
   ],
   "source": [
    "mat_origin = np.array([[8, 12],\n",
    "                       [7, 1]])\n",
    "\n",
    "sort_axis0 = np.sort(mat_origin, axis=0)\n",
    "print(f\"sort_axis0 = \\n{sort_axis0}\")\n",
    "\n",
    "\n",
    "sort_axis1 = np.sort(mat_origin, axis=1)\n",
    "print(f\"sort_axis1 = \\n{sort_axis1}\")"
   ]
  },
  {
   "cell_type": "code",
   "execution_count": 32,
   "metadata": {},
   "outputs": [
    {
     "name": "stdout",
     "output_type": "stream",
     "text": [
      "vec_origin : [3 1 9 5]\n",
      "sord_indices_desc type :<class 'numpy.ndarray'> [2 3 0 1]\n",
      "sord_indices_asc type :<class 'numpy.ndarray'> [1 0 3 2]\n"
     ]
    }
   ],
   "source": [
    "vec_origin = np.array([3, 1, 9, 5])\n",
    "print(f\"vec_origin : {vec_origin}\")\n",
    "sort_indices_desc = np.argsort(vec_origin)[::-1]\n",
    "sort_indices_asc = np.argsort(vec_origin)\n",
    "print(f\"sord_indices_desc type :{type(sort_indices_desc)} {sort_indices_desc}\")\n",
    "print(f\"sord_indices_asc type :{type(sort_indices_asc)} {sort_indices_asc}\")"
   ]
  },
  {
   "cell_type": "code",
   "execution_count": 34,
   "metadata": {},
   "outputs": [
    {
     "name": "stdout",
     "output_type": "stream",
     "text": [
      "[0 2 4 1 3]\n",
      "['John' 'Sarah' 'Samuel' 'Mike' 'Kate']\n"
     ]
    }
   ],
   "source": [
    "name_array = np.array([\"John\", \"Mike\", \"Sarah\", \"Kate\", \"Samuel\"])\n",
    "score_array = np.array([78, 95, 84, 98, 88])\n",
    "\n",
    "sort_indices_asc =  np.argsort(score_array)\n",
    "print(sort_indices_asc)\n",
    "print(name_array[sort_indices_asc])"
   ]
  },
  {
   "cell_type": "markdown",
   "metadata": {},
   "source": [
    "#### ndarray dot "
   ]
  },
  {
   "cell_type": "code",
   "execution_count": 37,
   "metadata": {},
   "outputs": [
    {
     "name": "stdout",
     "output_type": "stream",
     "text": [
      "A \n",
      "shape : (2, 3) \n",
      "dimension 2 \n",
      "[[1 2 3]\n",
      " [4 5 6]]\n",
      "B \n",
      "shape : (3, 2) \n",
      "dimension 2 \n",
      "[[ 7  8]\n",
      " [ 9 10]\n",
      " [11 12]]\n",
      "dot_mat \n",
      "shape(2, 2) \n",
      "dimension2 \n",
      "[[ 58  64]\n",
      " [139 154]]\n"
     ]
    }
   ],
   "source": [
    "A = np.array([[1, 2, 3],\n",
    "              [4 ,5, 6]])\n",
    "B = np.array([[7, 8], \n",
    "              [9, 10], \n",
    "              [11, 12]])\n",
    "print(f\"A \\nshape : {A.shape} \\ndimension {A.ndim} \\n{A}\")\n",
    "print(f\"B \\nshape : {B.shape} \\ndimension {B.ndim} \\n{B}\")\n",
    "dot_mat = np.dot(A, B)\n",
    "print(f\"dot_mat \\nshape{dot_mat.shape} \\ndimension{dot_mat.ndim} \\n{dot_mat}\") "
   ]
  },
  {
   "cell_type": "markdown",
   "metadata": {},
   "source": [
    "#### ndarray transpose"
   ]
  },
  {
   "cell_type": "code",
   "execution_count": 41,
   "metadata": {},
   "outputs": [
    {
     "name": "stdout",
     "output_type": "stream",
     "text": [
      "mat_a \n",
      "shape : (2, 2) \n",
      "ndim : 2 \n",
      "[[1 2]\n",
      " [3 4]]\n",
      "transpose_a \n",
      "shape : (2, 2) \n",
      "ndim : 2 \n",
      "[[1 3]\n",
      " [2 4]]\n"
     ]
    }
   ],
   "source": [
    "mat_a = np.array([[1, 2],\n",
    "                  [3, 4]])\n",
    "print(f\"mat_a \\nshape : {mat_a.shape} \\nndim : {mat_a.ndim} \\n{mat_a}\")\n",
    "transpose_a = mat_a.transpose()\n",
    "print(f\"transpose_a \\nshape : {transpose_a.shape} \\nndim : {transpose_a.ndim} \\n{transpose_a}\")\n"
   ]
  }
 ],
 "metadata": {
  "interpreter": {
   "hash": "b3ba2566441a7c06988d0923437866b63cedc61552a5af99d1f4fb67d367b25f"
  },
  "kernelspec": {
   "display_name": "Python 3.9.7 ('base')",
   "language": "python",
   "name": "python3"
  },
  "language_info": {
   "codemirror_mode": {
    "name": "ipython",
    "version": 3
   },
   "file_extension": ".py",
   "mimetype": "text/x-python",
   "name": "python",
   "nbconvert_exporter": "python",
   "pygments_lexer": "ipython3",
   "version": "3.8.8"
  },
  "orig_nbformat": 4
 },
 "nbformat": 4,
 "nbformat_minor": 2
}
