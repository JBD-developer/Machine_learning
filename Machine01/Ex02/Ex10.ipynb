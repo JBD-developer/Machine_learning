{
 "cells": [
  {
   "cell_type": "code",
   "execution_count": 3,
   "metadata": {},
   "outputs": [],
   "source": [
    "from sklearn.preprocessing import MinMaxScaler \n",
    "from sklearn.datasets import load_iris\n",
    "import numpy as np\n",
    "import pandas as pd \n",
    "\n",
    "pd.options.display.max_columns = None\n",
    "pd.options.display.max_rows = None"
   ]
  },
  {
   "cell_type": "code",
   "execution_count": 5,
   "metadata": {},
   "outputs": [
    {
     "name": "stdout",
     "output_type": "stream",
     "text": [
      "train_array \n",
      "(11, 1) \n",
      "type:<class 'numpy.ndarray'> \n",
      "[[0], [1], [2], [3], [4], [5], [6], [7], [8], [9], [10]]\n",
      "test_array \n",
      "(6, 1) \n",
      "type:<class 'numpy.ndarray'> \n",
      "[[0], [1], [2], [3], [4], [5]]\n"
     ]
    }
   ],
   "source": [
    "train_array = np.arange(0, 11).reshape(-1, 1)\n",
    "test_array = np.arange(0, 6).reshape(-1, 1)\n",
    "\n",
    "print(f\"train_array \\n{train_array.shape} \\ntype:{type(train_array)} \\n{train_array.tolist()}\")\n",
    "print(f\"test_array \\n{test_array.shape} \\ntype:{type(test_array)} \\n{test_array.tolist()}\")"
   ]
  },
  {
   "cell_type": "code",
   "execution_count": 7,
   "metadata": {},
   "outputs": [
    {
     "name": "stdout",
     "output_type": "stream",
     "text": [
      "original data [ 0  1  2  3  4  5  6  7  8  9 10] \n",
      "after scaled data [0.  0.1 0.2 0.3 0.4 0.5 0.6 0.7 0.8 0.9 1. ] \n"
     ]
    }
   ],
   "source": [
    "scaler = MinMaxScaler()\n",
    "\n",
    "scaler.fit(train_array)\n",
    "train_scaled = scaler.transform(train_array)\n",
    "\n",
    "print(f\"original data {np.round(train_array.reshape(-1), 2)} \")\n",
    "print(f\"after scaled data {np.round(train_scaled.reshape(-1), 2)} \")"
   ]
  },
  {
   "cell_type": "code",
   "execution_count": 8,
   "metadata": {},
   "outputs": [
    {
     "name": "stdout",
     "output_type": "stream",
     "text": [
      "original test data [0 1 2 3 4 5] \n",
      "after scaled test data [0.  0.2 0.4 0.6 0.8 1. ] \n"
     ]
    }
   ],
   "source": [
    "scaler.fit(test_array)\n",
    "test_scaled = scaler.transform(test_array)\n",
    "\n",
    "\n",
    "print(f\"original test data {np.round(test_array.reshape(-1), 2)} \")\n",
    "print(f\"after scaled test data {np.round(test_scaled.reshape(-1), 2)} \")"
   ]
  },
  {
   "cell_type": "code",
   "execution_count": 15,
   "metadata": {},
   "outputs": [
    {
     "name": "stdout",
     "output_type": "stream",
     "text": [
      "original train_array data : [ 0  1  2  3  4  5  6  7  8  9 10]\n",
      "after scaled data [0.  0.1 0.2 0.3 0.4 0.5 0.6 0.7 0.8 0.9 1. ] \n",
      "original test data [0 1 2 3 4 5] \n",
      "after scaled test data [0.  0.1 0.2 0.3 0.4 0.5] \n"
     ]
    }
   ],
   "source": [
    "scaler = MinMaxScaler()\n",
    "scaler.fit(train_array)\n",
    "train_scaled = scaler.transform(train_array)\n",
    "\n",
    "print(f\"original train_array data : {np.round(train_array.reshape(-1), 2)}\")\n",
    "print(f\"after scaled data {np.round(train_scaled.reshape(-1), 2)} \")\n",
    "\n",
    "test_scaled = scaler.transform(test_array)\n",
    "\n",
    "print(f\"original test data {np.round(test_array.reshape(-1), 2)} \")\n",
    "print(f\"after scaled test data {np.round(test_scaled.reshape(-1), 2)} \")\n"
   ]
  }
 ],
 "metadata": {
  "interpreter": {
   "hash": "ad407edf28d72043d30c8ba4bf11838d213aa5e1d5a5d9bd620e97e0d94da05a"
  },
  "kernelspec": {
   "display_name": "Python 3.8.10 64-bit",
   "language": "python",
   "name": "python3"
  },
  "language_info": {
   "codemirror_mode": {
    "name": "ipython",
    "version": 3
   },
   "file_extension": ".py",
   "mimetype": "text/x-python",
   "name": "python",
   "nbconvert_exporter": "python",
   "pygments_lexer": "ipython3",
   "version": "3.8.10"
  },
  "orig_nbformat": 4
 },
 "nbformat": 4,
 "nbformat_minor": 2
}
